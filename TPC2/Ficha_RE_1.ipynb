{
  "cells": [
    {
      "cell_type": "markdown",
      "metadata": {
        "id": "oVaAea-wCM6H"
      },
      "source": [
        "# Ficha de Expressões Regulares 1"
      ]
    },
    {
      "cell_type": "markdown",
      "metadata": {
        "id": "gk5jnHXt9t4y"
      },
      "source": [
        "### Conceitos básicos de expressões regulares\n",
        "\n",
        "- `a` - corresponde a uma ocorrência do caracter `a`.\n",
        "- `a?` - corresponde a 0 ou 1 ocorrências do caracter `a`.\n",
        "- `a+` - corresponde a 1 ou mais ocorrências do caracter `a`.\n",
        "- `a*` - corresponde a 0 ou mais ocorrências do caracter `a`.\n",
        "- `[abc]` - corresponde a uma ocorrência de um dos caracteres `a`, `b` ou `c`.\n",
        "- `[a-z]` - corresponde a uma ocorrência de um caracter entre `a` e `z`.\n",
        "- `^` - corresponde ao início da string.\n",
        "- `$` - corresponde ao fim da string.\n",
        "- `[^abc]` - corresponde a uma ocorrência de qualquer caracter que não seja `a`, `b` ou `c`.\n",
        "\n",
        "Podemos usar o operador de união para unir várias expressões regulares. Por exemplo: `a|bbb|[^a-z]`, que corresponde a uma das várias (neste caso, 3) expressões regulares que fazem parte da união.\n",
        "\n",
        "Podemos simplificar expressões regulares como `bbb` para `b{3}`, ou seja, 3 ocorrências consecutivas do caracter `b`, neste caso. Outras opções incluem `b{3,}` para 3 ou mais ocorrências ou `b{3,6}` para entre 3 a 6 ocorrências, por exemplo.\n",
        "\n",
        "Para formar grupos de expressões regulares, usamos parênteses. Por exemplo: `((abc)*|[0-9]+)?`. Os operadores após um grupo atuam sobre o grupo.\n",
        "\n",
        "Podemos ainda aplicar modificadores a grupos. Por exemplo, `(?i:teste)` corresponde à expressão \"teste\", escrita com qualquer combinação de maiúsculas e minúsculas (e.g., \"TESTE\", \"tEsTe\", \"TEste\", etc.)."
      ]
    },
    {
      "cell_type": "markdown",
      "metadata": {
        "id": "yDRt0yOgJ-TW"
      },
      "source": [
        "## Exercício 1"
      ]
    },
    {
      "cell_type": "markdown",
      "metadata": {
        "id": "gI05knhniDCr"
      },
      "source": [
        "### Alínea 1.1\n",
        "\n",
        "Dada uma linha de texto, define um programa que determina se a palavra \"hello\" aparece no início da linha.\n",
        "\n",
        "Conceitos importantes para este exercício:\n",
        "\n",
        "- `re.match(pattern, string[, flags])` - analisa a `string` e tenta encontrar uma correspondência para a expressão regular `pattern` a partir do início da string. Devolve `None` se não encontrar nenhuma correspondência.\n",
        "- `r\"\"` - string correspondente a uma expressão regular."
      ]
    },
    {
      "cell_type": "code",
      "execution_count": 2,
      "metadata": {},
      "outputs": [],
      "source": [
        "import re"
      ]
    },
    {
      "cell_type": "code",
      "execution_count": 41,
      "metadata": {
        "id": "ufl-7TGph9WH"
      },
      "outputs": [
        {
          "name": "stdout",
          "output_type": "stream",
          "text": [
            "<re.Match object; span=(0, 5), match='hello'>\n",
            "None\n",
            "None\n"
          ]
        }
      ],
      "source": [
        "line1 = \"hello world\"\n",
        "line2 = \"goodbye world\"\n",
        "line3 = \"hi, hello there\"\n",
        "\n",
        "print(re.match(r\"hello\",line1))\n",
        "print(re.match(r\"hello\",line2))\n",
        "print(re.match(r\"hello\",line3))\n"
      ]
    },
    {
      "cell_type": "markdown",
      "metadata": {},
      "source": [
        "Verifica-se que na string \"line2\", a palavra \"hello\" está presente no início. Nas restantes, uma vez que não está presente, é devolvido None."
      ]
    },
    {
      "cell_type": "markdown",
      "metadata": {
        "id": "gzgOACqiJ7VN"
      },
      "source": [
        "### Alínea 1.2\n",
        "\n",
        "Dada uma linha de texto, define um programa que determina se a palavra \"hello\" aparece em qualquer posição da linha.\n",
        "\n",
        "Conceitos importantes para este exercício:\n",
        "\n",
        "- `re.search(pattern, string[, flags])` - analisa a `string` e tenta encontrar uma correspondência para a expressão regular `pattern` em qualquer posição da string. Devolve `None` se não encontrar nenhuma correspondência."
      ]
    },
    {
      "cell_type": "code",
      "execution_count": 42,
      "metadata": {
        "id": "TM-qMl-yJ7VS"
      },
      "outputs": [
        {
          "name": "stdout",
          "output_type": "stream",
          "text": [
            "<re.Match object; span=(0, 5), match='hello'>\n",
            "None\n",
            "<re.Match object; span=(4, 9), match='hello'>\n"
          ]
        }
      ],
      "source": [
        "line1 = \"hello world\"\n",
        "line2 = \"goodbye world\"\n",
        "line3 = \"hi, hello there\"\n",
        "\n",
        "print(re.search(r\"hello\",line1))\n",
        "print(re.search(r\"hello\",line2))\n",
        "print(re.search(r\"hello\",line3))\n"
      ]
    },
    {
      "cell_type": "markdown",
      "metadata": {},
      "source": [
        "É possível verificar que a palavra \"hello\" está presente nas strings \"line1\" e \"line3\"."
      ]
    },
    {
      "cell_type": "markdown",
      "metadata": {
        "id": "6ZE7klswOy90"
      },
      "source": [
        "### Alínea 1.3\n",
        "\n",
        "Dada uma linha de texto, define um programa que pesquisa por todas as ocorrências da palavra \"hello\" dentro da linha, admitindo que a palavra seja escrita com maiúsculas ou minúsculas.\n",
        "\n",
        "Conceitos importantes para este exercício:\n",
        "\n",
        "- `re.findall(pattern, string[, flags])` - encontra todas as correspondências que não se sobreponham da expressão regular `pattern` na `string`. Devolve uma lista."
      ]
    },
    {
      "cell_type": "code",
      "execution_count": 43,
      "metadata": {
        "id": "aHB_l7g5OzNY"
      },
      "outputs": [
        {
          "data": {
            "text/plain": [
              "['Hello', 'hello', 'hello', 'HELLO']"
            ]
          },
          "execution_count": 43,
          "metadata": {},
          "output_type": "execute_result"
        }
      ],
      "source": [
        "line = \"Hello there! Uh, hi, hello, it's me... Heyyy, hello? HELLO!\"\n",
        "\n",
        "re.findall(r\"hello\",line, flags= re.IGNORECASE)"
      ]
    },
    {
      "cell_type": "markdown",
      "metadata": {},
      "source": [
        "Para procurar todas as ocorrências da palavra \"hello\", independentemente de se encontrar em maiúsculas ou minúsculas, foi utilizada uma flag que ignora esta situação. Assim, na lista devolvida consta todas as ocorrências."
      ]
    },
    {
      "cell_type": "markdown",
      "metadata": {
        "id": "TSwUj26OPRmP"
      },
      "source": [
        "### Alínea 1.4\n",
        "\n",
        "Dada uma linha de texto, define um programa que pesquisa por todas as ocorrências da palavra \"hello\" dentro da linha, substituindo cada uma por \"\\*YEP\\*\".\n",
        "\n",
        "Conceitos importantes para este exercício:\n",
        "\n",
        "- `re.sub(pattern, replacement, string, count = 0, flags = 0)` - substitui todas as correspondências da expressão regular `pattern` na `string` por `replacement`. `replacement` pode ser uma string, uma expressão regular ou uma função que recebe uma correspondência e devolve uma string. O parâmetro `count` determina o limite de substituições (por defeito é 0, ou seja, não há limite)."
      ]
    },
    {
      "cell_type": "code",
      "execution_count": 63,
      "metadata": {
        "id": "SXLK2rhMPf11"
      },
      "outputs": [
        {
          "data": {
            "text/plain": [
              "\"*YEP* there! uh, hi, *YEP*, it's me... heyyy, *YEP*? *YEP*!\""
            ]
          },
          "execution_count": 63,
          "metadata": {},
          "output_type": "execute_result"
        }
      ],
      "source": [
        "line = \"Hello there! Uh, hi, hello, it's me... Heyyy, hello? HELLO!\"\n",
        "line2=line.lower()\n",
        "re.sub(r\"hello\", r\"*YEP*\",line2, count=0,flags=0)"
      ]
    },
    {
      "cell_type": "markdown",
      "metadata": {},
      "source": [
        "De forma a substituir todas as ocorrências da palavra \"hello\" por \"*YEP\" foi utilizada o re.sub. Para serem detetadas todas as occorências, a string foi passada para escrita minúscula e depois feita a substituição."
      ]
    },
    {
      "cell_type": "markdown",
      "metadata": {
        "id": "MrgsEzJCPgbO"
      },
      "source": [
        "### Alínea 1.5\n",
        "\n",
        "Dada uma linha de texto, define um programa que pesquisa por todas as ocorrências do caracter vírgula, separando cada parte da linha por esse caracter.\n",
        "\n",
        "Conceitos importantes para este exercício:\n",
        "\n",
        "- `re.split(pattern, string, maxsplit = 0, flags = 0)` - divide a `string` com base nas correspondências da expressão regular `pattern`. O parâmetro `maxsplit` pode ser usado para definir um limite de divisões (por defeito é 0, que corresponde a divisões infinitas)."
      ]
    },
    {
      "cell_type": "code",
      "execution_count": 72,
      "metadata": {
        "id": "vrwiid6XPgvg"
      },
      "outputs": [
        {
          "data": {
            "text/plain": [
              "['bananas',\n",
              " ' laranjas',\n",
              " ' maçãs',\n",
              " ' uvas',\n",
              " ' melancias',\n",
              " ' cerejas',\n",
              " ' kiwis',\n",
              " ' etc.']"
            ]
          },
          "execution_count": 72,
          "metadata": {},
          "output_type": "execute_result"
        }
      ],
      "source": [
        "line = \"bananas, laranjas, maçãs, uvas, melancias, cerejas, kiwis, etc.\"\n",
        "\n",
        "re.split(r\",\",line)"
      ]
    },
    {
      "cell_type": "markdown",
      "metadata": {},
      "source": [
        "Foi utilizado o método split() para a divisão da string por \",\"."
      ]
    },
    {
      "cell_type": "markdown",
      "metadata": {
        "id": "6QP0erT4iSzE"
      },
      "source": [
        "## Exercício 2\n",
        "\n",
        "Define a função `palavra_magica` que recebe uma frase e determina se a mesma termina com a expressão \"por favor\", seguida de um sinal válido de pontuação."
      ]
    },
    {
      "cell_type": "code",
      "execution_count": 55,
      "metadata": {
        "id": "MhCC49z7jU7n"
      },
      "outputs": [
        {
          "name": "stdout",
          "output_type": "stream",
          "text": [
            "True\n",
            "False\n",
            "False\n"
          ]
        }
      ],
      "source": [
        "import re\n",
        "def palavra_magica(frase):\n",
        "    padrao = r\"por favor[\\?\\.\\!\\:\\;]$|por favor\\.{3}$\"\n",
        "    \n",
        "    if re.search(padrao, frase):\n",
        "        return True\n",
        "    else:\n",
        "        return False\n",
        "    \n",
        "print(palavra_magica(\"Posso ir à casa de banho, por favor...\")) \n",
        "print(palavra_magica(\"Preciso de um favor.\"))\n",
        "print(palavra_magica(\"por favor?, vou à casa de banho\"))"
      ]
    },
    {
      "cell_type": "markdown",
      "metadata": {},
      "source": [
        "A principal dificuldade deste exercício consistiu em colocar como possível escolha o sinal de reticências (...). Para tal, foi acrecentado \" |por favor\\.{3}$ \" que inclui as reticências."
      ]
    },
    {
      "cell_type": "markdown",
      "metadata": {
        "id": "L71wvPCujpBD"
      },
      "source": [
        "## Exercício 3\n",
        "\n",
        "Define a função `narcissismo` que calcula quantas vezes a palavra \"eu\" aparece numa string."
      ]
    },
    {
      "cell_type": "code",
      "execution_count": 62,
      "metadata": {
        "id": "0HxFCow5nOj8"
      },
      "outputs": [
        {
          "name": "stdout",
          "output_type": "stream",
          "text": [
            "6\n"
          ]
        }
      ],
      "source": [
        "def narcissismo(linha):\n",
        "  padrao= r\"\\beu\\b\"\n",
        "  soma = len(re.findall(padrao,linha,flags=re.IGNORECASE))\n",
        "  return soma\n",
        "\n",
        "print(narcissismo(\"Eu não sei se eu quero continuar a ser eu. Por outro lado, eu ser eu é uma parte importante de quem EU sou.\"))"
      ]
    },
    {
      "cell_type": "markdown",
      "metadata": {},
      "source": [
        "Para identificar exclusivamente a palavra \"eu\", foi utilizado o padrão '\\beu\\b' para encontrar apenas ocorrências da palavra completa. O método \"findall\" retorna uma lista de todas as ocorrências encontradas. Para determinar quantas vezes a palavra aparece, basta contar o número de elementos nesta lista usando a função len(). Além disso, a flag 'IGNORE CASE' foi utilizada para garantir que a diferenciação entre maiúsculas e minúsculas seja ignorada durante a procura."
      ]
    },
    {
      "cell_type": "markdown",
      "metadata": {
        "id": "EKETfRaOolO4"
      },
      "source": [
        "## Exercício 4\n",
        "\n",
        "Define a função `troca_de_curso` que substitui todas as ocorrências de \"LEI\" numa linha pelo nome do curso dado à função."
      ]
    },
    {
      "cell_type": "code",
      "execution_count": 71,
      "metadata": {
        "id": "8ZVPMxfZpRrx"
      },
      "outputs": [
        {
          "name": "stdout",
          "output_type": "stream",
          "text": [
            "BIOM é o melhor curso! Adoro BIOM! Gostar de BIOM devia ser uma lei.\n"
          ]
        }
      ],
      "source": [
        "def troca_de_curso(linha, novo_curso):\n",
        "    replace=re.sub(r\"LEI\",str(novo_curso),linha)\n",
        "    return replace\n",
        "print(troca_de_curso(\"LEI é o melhor curso! Adoro LEI! Gostar de LEI devia ser uma lei.\",\"BIOM\"))"
      ]
    },
    {
      "cell_type": "markdown",
      "metadata": {},
      "source": [
        "Foi utilizado o método sub para substituir a palavra \"LEI\" por outra."
      ]
    },
    {
      "cell_type": "markdown",
      "metadata": {
        "id": "GZKMkTKcp886"
      },
      "source": [
        "## Exercício 5\n",
        "\n",
        "Define a função `soma_string` que recebe uma string com vários números separados por uma vírgula (e.g., \"1,2,3,4,5\") e devolve a soma destes números."
      ]
    },
    {
      "cell_type": "code",
      "execution_count": 77,
      "metadata": {
        "id": "ExqmZwj_rzuR"
      },
      "outputs": [
        {
          "name": "stdout",
          "output_type": "stream",
          "text": [
            "6\n"
          ]
        }
      ],
      "source": [
        "def soma_string(linha):\n",
        "  numeros=re.split(r\",\",linha)\n",
        "  soma=0\n",
        "  for num in numeros:\n",
        "    soma+=int(num)\n",
        "  return soma\n",
        "\n",
        "print(soma_string(\"4,-6,2,3,8,-3,0,2,-5,1\"))"
      ]
    },
    {
      "cell_type": "markdown",
      "metadata": {},
      "source": [
        "Uma vez que o resultado de \"re.split()\" retorna uma lista com os números, basta apenas utilizar um ciclo \"for\" para correr a lista e definir a variável soma que vai somando os elementos da lista."
      ]
    },
    {
      "cell_type": "markdown",
      "metadata": {
        "id": "n49iafoNzw-3"
      },
      "source": [
        "## Exercício 6\n",
        "\n",
        "Define a função `pronomes` que encontra e devolve todos os pronomes pessoais presentes numa frase, i.e., \"eu\", \"tu\", \"ele\", \"ela\", etc., com atenção para letras maiúsculas ou minúsculas."
      ]
    },
    {
      "cell_type": "code",
      "execution_count": 83,
      "metadata": {
        "id": "RnuCrz2H0DWq"
      },
      "outputs": [
        {
          "name": "stdout",
          "output_type": "stream",
          "text": [
            "['ELES', 'nós', 'vos', 'ela', 'eles', 'ele']\n"
          ]
        }
      ],
      "source": [
        "def pronomes(frase):\n",
        "    padrao = r\"\\beu\\b|\\btu\\b|\\bel[ea]s*\\b|\\bn[oó]s\\b|\\bv[óo]s\\b\"\n",
        "    oc=re.findall(padrao,frase,flags=re.IGNORECASE)\n",
        "    return oc\n",
        "\n",
        "print(pronomes(\"ELES nós vos ela eles ele simba oi julia\"))\n"
      ]
    },
    {
      "cell_type": "markdown",
      "metadata": {},
      "source": [
        "O padrão de expressão regular r\"\\beu\\b|\\btu\\b|\\bel[ea]s*\\b|\\bn[oó]s\\b|\\bv[oó]s\\b\" foi utilizado para encontrar ocorrências dos pronomes \"eu\", \"tu\", \"ele\", \"ela\", \"eles\", \"elas\", \"nós\" e \"vós\", considerando que \"ele\" e \"ela\" podem ser representados pelo padrão el[ea]s*, que corresponde a \"ele\" ou \"ela\" seguido opcionalmente por \"s\" para indicar o plural.  Para o pronome \"nós e vós\" é ainda possível encontrar estas palavaras sem acentos.De seguida, usou-se a função findall() para encontrar todas as ocorrências desses pronomes na frase, ignorando diferenças entre maiúsculas e minúsculas devido à flag re.IGNORECASE. Em seguida, uma lista contendo todas as ocorrências encontradas é retornada pela função. "
      ]
    },
    {
      "cell_type": "markdown",
      "metadata": {
        "id": "BHMk88OQ0XFY"
      },
      "source": [
        "## Exercício 7\n",
        "\n",
        "Define a função `variavel_valida` que recebe uma string e determina se a mesma é um nome válido para uma variável, ou seja, se começa por uma letra e apenas contém letras, números ou *underscores*."
      ]
    },
    {
      "cell_type": "code",
      "execution_count": 109,
      "metadata": {
        "id": "YTQW91Ws1WLx"
      },
      "outputs": [
        {
          "name": "stdout",
          "output_type": "stream",
          "text": [
            "True\n",
            "False\n",
            "False\n",
            "False\n"
          ]
        }
      ],
      "source": [
        "def variavel_valida(string):\n",
        "    # Verifica se a string começa com uma letra\n",
        "    if not re.match(r\"^[a-zA-Z]\", string):\n",
        "        return False\n",
        "    # Verifica se a string contém apenas letras, números ou underscores\n",
        "    if not re.match(r\"^\\w*$\", string):\n",
        "        return False\n",
        "    return True\n",
        "\n",
        "print(variavel_valida(\"okojd_i\"))\n",
        "print(variavel_valida(\"9okojdi\"))\n",
        "print(variavel_valida(\"oko jdi\"))\n",
        "print(variavel_valida(\"oko!di\"))"
      ]
    },
    {
      "cell_type": "markdown",
      "metadata": {},
      "source": [
        "Inicialmente, utilizou-se a expressão regular ^[a-zA-Z] para garantir que a string comece com uma letra (maiúscula ou minúscula). Se a string não começar com uma letra, a função retorna False. De seguida, usou-se expressão regular ^\\w*$ para garantir que a string contenha apenas letras, números ou underscores (_). Se a string conter qualquer outro caractere além desses, a função retorna False."
      ]
    },
    {
      "cell_type": "markdown",
      "metadata": {
        "id": "ZRWbgkMM5qzx"
      },
      "source": [
        "## Exercício 8\n",
        "\n",
        "Define a função `inteiros` que devolve todos os números inteiros presentes numa string. Um número inteiro pode conter um ou mais dígitos e pode ser positivo ou negativo."
      ]
    },
    {
      "cell_type": "code",
      "execution_count": 113,
      "metadata": {
        "id": "jsmiEi6gA7vh"
      },
      "outputs": [
        {
          "name": "stdout",
          "output_type": "stream",
          "text": [
            "['-2', '4', '12', '32', '-12']\n"
          ]
        }
      ],
      "source": [
        "def inteiros(string):\n",
        "    numeros= re.split(r\",\",string)\n",
        "    lista_nova=[]\n",
        "    for num in numeros:\n",
        "        if not re.findall(r\"\\.\",num):\n",
        "            lista_nova.append(num)\n",
        "    return lista_nova\n",
        "\n",
        "print(inteiros(\"-2,4,12,32,32.4,-12,-0.03\"))\n",
        "\n"
      ]
    },
    {
      "cell_type": "markdown",
      "metadata": {},
      "source": [
        "Primeiramente,foi usado re.split(r\",\", string) para dividir a string em uma lista de números, utilizando a vírgula como delimitador.\n",
        "De seguida, através do ciclo \"for\", é percorrido cada número na lista resultante e verifica-se se este contém um ponto decimal (representando um número real).Se o número contiver um ponto decimal,é ignorado e não é incluído na lista de inteiros."
      ]
    },
    {
      "cell_type": "markdown",
      "metadata": {
        "id": "QhpGhtBT7aD3"
      },
      "source": [
        "## Exercício 9\n",
        "\n",
        "Define a função `underscores` que substitui todos os espaços numa string por *underscores*. Se aparecerem vários espaços seguidos, devem ser substituídos por apenas um *underscore*."
      ]
    },
    {
      "cell_type": "code",
      "execution_count": 120,
      "metadata": {
        "id": "1YTIkZT-6Ase"
      },
      "outputs": [
        {
          "name": "stdout",
          "output_type": "stream",
          "text": [
            "ana_maria_ana_\n"
          ]
        }
      ],
      "source": [
        "def underscores(string):\n",
        "    sub= re.sub(r\"\\s+\",r\"_\",string)\n",
        "    return sub\n",
        "print(underscores(\"ana    maria ana \"))"
      ]
    },
    {
      "cell_type": "markdown",
      "metadata": {
        "id": "xcUrRlIy8uof"
      },
      "source": [
        "## Exercício 10\n",
        "\n",
        "Define a função `codigos_postais` que recebe uma lista de códigos postais válidos e divide-os com base no hífen. A função deve devolver uma lista de pares."
      ]
    },
    {
      "cell_type": "code",
      "execution_count": 126,
      "metadata": {},
      "outputs": [
        {
          "name": "stdout",
          "output_type": "stream",
          "text": [
            "[('4700', '000'), ('1234', '567'), ('8541', '543'), ('4123', '974'), ('9481', '025')]\n"
          ]
        }
      ],
      "source": [
        "\n",
        "lista = [\n",
        "    \"4700-000\",\n",
        "    \"1234-567\",\n",
        "    \"8541-543\",\n",
        "    \"4123-974\",\n",
        "    \"9481-025\"\n",
        "]\n",
        "\n",
        "def codigos_postais(lista):\n",
        "    nova_lista=[]\n",
        "    for cod in lista:\n",
        "        elem=re.split(r\"-\",cod)\n",
        "        nova_lista.append((elem[0],elem[1]))\n",
        "    return nova_lista\n",
        "\n",
        "print(codigos_postais(lista))"
      ]
    },
    {
      "cell_type": "markdown",
      "metadata": {},
      "source": []
    }
  ],
  "metadata": {
    "colab": {
      "provenance": [],
      "toc_visible": true
    },
    "kernelspec": {
      "display_name": "Python 3",
      "name": "python3"
    },
    "language_info": {
      "codemirror_mode": {
        "name": "ipython",
        "version": 3
      },
      "file_extension": ".py",
      "mimetype": "text/x-python",
      "name": "python",
      "nbconvert_exporter": "python",
      "pygments_lexer": "ipython3",
      "version": "3.9.13"
    }
  },
  "nbformat": 4,
  "nbformat_minor": 0
}
