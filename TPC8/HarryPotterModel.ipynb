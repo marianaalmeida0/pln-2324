{
 "cells": [
  {
   "cell_type": "code",
   "execution_count": 2,
   "id": "initial_id",
   "metadata": {
    "ExecuteTime": {
     "end_time": "2024-05-02T09:24:23.490682300Z",
     "start_time": "2024-05-02T09:24:15.575102900Z"
    },
    "collapsed": true
   },
   "outputs": [],
   "source": [
    "from gensim.utils import tokenize\n",
    "import re\n",
    "from gensim.models import Word2Vec\n",
    "from gensim.utils import tokenize"
   ]
  },
  {
   "cell_type": "code",
   "execution_count": 3,
   "id": "c9ed5604af3ccfd7",
   "metadata": {
    "ExecuteTime": {
     "end_time": "2024-05-02T09:24:23.546545Z",
     "start_time": "2024-05-02T09:24:23.483692Z"
    },
    "collapsed": false
   },
   "outputs": [],
   "source": [
    "\n",
    "f1=open(\"Harry_Potter_Camara_Secreta-br.txt\",\"r\", encoding='utf-8')\n",
    "\n",
    "f2= open(\"Harry_Potter_e_A_Pedra_Filosofal.txt\",\"r\", encoding='utf-8')\n",
    "\n",
    "text1=f1.read()\n",
    "text2 = f2.read()"
   ]
  },
  {
   "cell_type": "markdown",
   "id": "443afe0f4c0db7b3",
   "metadata": {
    "collapsed": false
   },
   "source": [
    "### Combinação de textos"
   ]
  },
  {
   "cell_type": "code",
   "execution_count": 4,
   "id": "28c74a8c8d192ff",
   "metadata": {
    "ExecuteTime": {
     "end_time": "2024-05-02T09:24:23.857861400Z",
     "start_time": "2024-05-02T09:24:23.515550500Z"
    },
    "collapsed": false
   },
   "outputs": [],
   "source": [
    "texto_combinado = text1 + \"\\n\" + text2\n",
    "linhas=texto_combinado.split(\"\\n\")\n",
    "tokens=[]\n",
    "\n",
    "\n",
    "for linha in linhas:\n",
    "    #linha=re.sub(r\"[!,-?–\\.]+\", \"\", linha) #podiamos fazer linha.lower # procesamento manual\n",
    "    linha=list(tokenize(linha, lower=True)) # procesamento com tokenizer\n",
    "    tokens.append(linha) # antes : linha.split()\n"
   ]
  },
  {
   "cell_type": "markdown",
   "id": "acf6de55db8653c0",
   "metadata": {
    "collapsed": false
   },
   "source": []
  },
  {
   "cell_type": "raw",
   "id": "9b456facdd4a0631",
   "metadata": {
    "collapsed": false
   },
   "source": [
    "# Parâmetros do modelo\n",
    "vector_size  # Tamanho do vetor de palavras\n",
    "window   # Tamanho da janela de contexto\n",
    "min_count  # Palavras com frequência menor que min_count serão ignoradas\n",
    "sg  # Método de treino skip-gram (sg=1) ou CBOW (sg=0)\n",
    "epochs   # Número de épocas de treino\n",
    "workers   # Número de threads a serem usadas durante o treino"
   ]
  },
  {
   "cell_type": "markdown",
   "id": "271c4b7c277033e4",
   "metadata": {
    "collapsed": false
   },
   "source": [
    "## Modelo 1"
   ]
  },
  {
   "cell_type": "code",
   "execution_count": 5,
   "id": "5595fecab7da0c2",
   "metadata": {
    "ExecuteTime": {
     "end_time": "2024-05-02T09:24:30.392603Z",
     "start_time": "2024-05-02T09:24:26.761447500Z"
    },
    "collapsed": false
   },
   "outputs": [
    {
     "name": "stdout",
     "output_type": "stream",
     "text": [
      "mione 0.9253971576690674\n",
      "hermione 0.9228180050849915\n",
      "neville 0.9101744294166565\n",
      "rony 0.9101217985153198\n",
      "hagrid 0.9099714159965515\n",
      "draco 0.9003702998161316\n",
      "lockhart 0.8934846520423889\n",
      "ela 0.8856003284454346\n",
      "riddle 0.8822800517082214\n",
      "percy 0.8744713068008423\n"
     ]
    }
   ],
   "source": [
    "\n",
    "model=Word2Vec(tokens, vector_size=100, window=5, min_count=1, sg=1, epochs=5, workers=3)\n",
    "#model=Word2Vec(tokens, vector_size=300, window=10, min_count=1, sg=1, epochs=20, workers=3)\n",
    "\n",
    "\n",
    "similar_words= model.wv.most_similar(\"harry\")\n",
    "\n",
    "for word, score in similar_words:\n",
    "    print(word, score)\n",
    "\n",
    "model.save(\"models/HPword2vec.model\")"
   ]
  },
  {
   "cell_type": "markdown",
   "id": "6f22c2e1697f3a1",
   "metadata": {
    "collapsed": false
   },
   "source": [
    "## Modelo 2"
   ]
  },
  {
   "cell_type": "code",
   "execution_count": 10,
   "id": "ba8540785fbcb1b7",
   "metadata": {
    "ExecuteTime": {
     "end_time": "2024-05-02T09:32:28.626154400Z",
     "start_time": "2024-05-02T09:32:11.694168800Z"
    },
    "collapsed": false
   },
   "outputs": [
    {
     "name": "stdout",
     "output_type": "stream",
     "text": [
      "portão 0.5738580822944641\n",
      "anão 0.5721769332885742\n",
      "astucioso 0.5719014406204224\n",
      "esgotaria 0.571578860282898\n",
      "corando 0.5714051723480225\n",
      "hesitante 0.5702019929885864\n",
      "tremia 0.5686089396476746\n",
      "alegria 0.5677545666694641\n",
      "selou 0.5656384825706482\n",
      "facilidade 0.5639915466308594\n"
     ]
    }
   ],
   "source": [
    "model2=Word2Vec(tokens, vector_size=300, window=5, min_count=1, sg=1, epochs=20, workers=3)\n",
    "\n",
    "similar_words= model2.wv.most_similar(\"harry\")\n",
    "\n",
    "for word, score in similar_words:\n",
    "    print(word, score)"
   ]
  },
  {
   "cell_type": "markdown",
   "id": "e2e05a53ddf275cd",
   "metadata": {
    "collapsed": false
   },
   "source": [
    "## Modelo 3"
   ]
  },
  {
   "cell_type": "code",
   "execution_count": 11,
   "id": "5f545e3daa625a28",
   "metadata": {
    "ExecuteTime": {
     "end_time": "2024-05-02T09:33:01.218594500Z",
     "start_time": "2024-05-02T09:32:33.922704100Z"
    },
    "collapsed": false
   },
   "outputs": [
    {
     "name": "stdout",
     "output_type": "stream",
     "text": [
      "incrédulos 0.4183487594127655\n",
      "evitá 0.4062234163284302\n",
      "desanimar 0.4057267904281616\n",
      "manhoso 0.40311914682388306\n",
      "pálidos 0.4003713130950928\n",
      "reprimida 0.3998787999153137\n",
      "nabos 0.39676007628440857\n",
      "selou 0.3967197835445404\n",
      "alarmada 0.39589348435401917\n",
      "admirava 0.39542192220687866\n"
     ]
    }
   ],
   "source": [
    "model3=Word2Vec(tokens, vector_size=300, window=5, min_count=1, sg=1, epochs=35, workers=3)\n",
    "\n",
    "similar_words= model3.wv.most_similar(\"harry\")\n",
    "\n",
    "for word, score in similar_words:\n",
    "    print(word, score)"
   ]
  },
  {
   "cell_type": "markdown",
   "id": "bf2e7801e2d833b5",
   "metadata": {
    "collapsed": false
   },
   "source": [
    "O modelo com melhor previsão resultou no 1 modelo implementado, visto que encontra muito melhor palavras similiares com \"harry\" que os restantes modelos. Desta forma, os seguintes testes foram realizados com base nesse modelo"
   ]
  },
  {
   "cell_type": "markdown",
   "id": "8a8461805f021441",
   "metadata": {
    "collapsed": false
   },
   "source": [
    "### Funcão adicional "
   ]
  },
  {
   "cell_type": "code",
   "execution_count": 7,
   "id": "8c02cefab197e2ed",
   "metadata": {
    "ExecuteTime": {
     "end_time": "2024-05-02T09:30:01.571074500Z",
     "start_time": "2024-05-02T09:30:01.531080Z"
    },
    "collapsed": false
   },
   "outputs": [],
   "source": [
    "#model=KeyedVectors.load(\"models/HPword2vec.model\")\n",
    "def analogy(x2, y1, x1):\n",
    "    result = model.wv.most_similar(positive=[y1, x2], negative=[x1])\n",
    "    return (result[0][0])\n"
   ]
  },
  {
   "cell_type": "markdown",
   "id": "c86639d7a0f76bae",
   "metadata": {
    "collapsed": false
   },
   "source": [
    "### Similaridade entre palavras\n"
   ]
  },
  {
   "cell_type": "code",
   "execution_count": 12,
   "id": "9c14945ea1b934a1",
   "metadata": {
    "ExecuteTime": {
     "end_time": "2024-05-02T09:34:29.515112100Z",
     "start_time": "2024-05-02T09:34:29.471514400Z"
    },
    "collapsed": false
   },
   "outputs": [
    {
     "name": "stdout",
     "output_type": "stream",
     "text": [
      "mione 0.9253971576690674\n",
      "hermione 0.9228180050849915\n",
      "neville 0.9101744294166565\n",
      "rony 0.9101217985153198\n",
      "hagrid 0.9099714159965515\n",
      "draco 0.9003702998161316\n",
      "lockhart 0.8934846520423889\n",
      "ela 0.8856003284454346\n",
      "riddle 0.8822800517082214\n",
      "percy 0.8744713068008423\n"
     ]
    }
   ],
   "source": [
    "similar_words= model.wv.most_similar(\"harry\")\n",
    "\n",
    "for word, score in similar_words:\n",
    "    print(word, score)\n"
   ]
  },
  {
   "cell_type": "code",
   "execution_count": 13,
   "id": "27783a42ec7223a8",
   "metadata": {
    "ExecuteTime": {
     "end_time": "2024-05-02T09:34:38.683517900Z",
     "start_time": "2024-05-02T09:34:38.609541200Z"
    },
    "collapsed": false
   },
   "outputs": [
    {
     "name": "stdout",
     "output_type": "stream",
     "text": [
      "exclamou 0.9443756341934204\n",
      "ah 0.941403865814209\n",
      "sim 0.9304185509681702\n",
      "respondeu 0.9274412393569946\n",
      "sou 0.9237794280052185\n",
      "dobby 0.9234777092933655\n",
      "tom 0.9228600263595581\n",
      "desculpe 0.9226998686790466\n",
      "qual 0.9220214486122131\n",
      "esse 0.9214838147163391\n"
     ]
    }
   ],
   "source": [
    "similar_words = model.wv.most_similar('potter')\n",
    "\n",
    "# Print the similar words and their similarity scores\n",
    "for word, score in similar_words:\n",
    "    print(word, score)\n"
   ]
  },
  {
   "cell_type": "code",
   "execution_count": 14,
   "id": "e130e780bef7af0e",
   "metadata": {
    "ExecuteTime": {
     "end_time": "2024-05-02T09:34:43.685457600Z",
     "start_time": "2024-05-02T09:34:43.624450500Z"
    },
    "collapsed": false
   },
   "outputs": [
    {
     "name": "stdout",
     "output_type": "stream",
     "text": [
      "grifinória 0.9717097878456116\n",
      "escola 0.9643010497093201\n",
      "magia 0.9621188640594482\n",
      "biblioteca 0.9544959664344788\n",
      "corvinal 0.9533711671829224\n",
      "geme 0.9509081244468689\n",
      "casa 0.9478164911270142\n",
      "sair 0.9457977414131165\n",
      "murta 0.9428151845932007\n",
      "festa 0.9425426721572876\n"
     ]
    }
   ],
   "source": [
    "similar_words = model.wv.most_similar('sonserina')\n",
    "\n",
    "# Print the similar words and their similarity scores\n",
    "for word, score in similar_words:\n",
    "    print(word, score)"
   ]
  },
  {
   "cell_type": "code",
   "execution_count": 15,
   "id": "b0aac686e7a82fa5",
   "metadata": {
    "ExecuteTime": {
     "end_time": "2024-05-02T09:34:49.971067400Z",
     "start_time": "2024-05-02T09:34:49.924537300Z"
    },
    "collapsed": false
   },
   "outputs": [
    {
     "name": "stdout",
     "output_type": "stream",
     "text": [
      "papai 0.9943541288375854\n",
      "expulso 0.9931201338768005\n",
      "vê 0.9931135177612305\n",
      "quis 0.9910231828689575\n",
      "querer 0.9908838272094727\n",
      "óbvio 0.9908736944198608\n",
      "mamãe 0.9899950623512268\n",
      "morrer 0.9897441267967224\n",
      "querido 0.989673376083374\n",
      "matar 0.9894267916679382\n"
     ]
    }
   ],
   "source": [
    "similar_words = model.wv.most_similar('voldemort')\n",
    "\n",
    "# Print the similar words and their similarity scores\n",
    "for word, score in similar_words:\n",
    "    print(word, score)"
   ]
  },
  {
   "cell_type": "markdown",
   "id": "3e426960bf07b523",
   "metadata": {
    "collapsed": false
   },
   "source": [
    "### Similaridade entre pares de palavras"
   ]
  },
  {
   "cell_type": "code",
   "execution_count": 16,
   "id": "8e3a97706fc8b70f",
   "metadata": {
    "ExecuteTime": {
     "end_time": "2024-05-02T09:35:13.770131400Z",
     "start_time": "2024-05-02T09:35:13.714853800Z"
    },
    "collapsed": false
   },
   "outputs": [
    {
     "name": "stdout",
     "output_type": "stream",
     "text": [
      "harry \t magia \t 0.69\n",
      "hermione \t snape \t 0.84\n",
      "grifinória \t sonserina \t 0.97\n",
      "dursley \t grunnings \t 0.79\n"
     ]
    }
   ],
   "source": [
    "pairs=[('harry', 'magia'), ('hermione', 'snape'), ('grifinória', 'sonserina'), ('dursley','grunnings')]\n",
    "for w1, w2 in pairs:\n",
    "    print('%s \\t %s \\t% .2f' %(w1, w2, model.wv.similarity(w1, w2)))"
   ]
  },
  {
   "cell_type": "markdown",
   "id": "ba6217f0d6c6092c",
   "metadata": {
    "collapsed": false
   },
   "source": [
    "### Palavras que não coincidem"
   ]
  },
  {
   "cell_type": "code",
   "execution_count": 79,
   "id": "d826b4d1b6207e34",
   "metadata": {
    "ExecuteTime": {
     "end_time": "2024-05-01T23:20:36.432743800Z",
     "start_time": "2024-05-01T23:20:36.380746100Z"
    },
    "collapsed": false
   },
   "outputs": [
    {
     "data": {
      "text/plain": [
       "'filho'"
      ]
     },
     "execution_count": 79,
     "metadata": {},
     "output_type": "execute_result"
    }
   ],
   "source": [
    "model.wv.doesnt_match([\"filho\", \"tia\", \"cozinha\"])\n",
    "\n",
    "#cozinha"
   ]
  },
  {
   "cell_type": "code",
   "execution_count": 20,
   "id": "a54a5098b202981a",
   "metadata": {
    "ExecuteTime": {
     "end_time": "2024-05-02T09:35:35.642425200Z",
     "start_time": "2024-05-02T09:35:35.568430900Z"
    },
    "collapsed": false
   },
   "outputs": [
    {
     "data": {
      "text/plain": [
       "'harry'"
      ]
     },
     "execution_count": 20,
     "metadata": {},
     "output_type": "execute_result"
    }
   ],
   "source": [
    "model.wv.doesnt_match([\"rony\", \"harry\", \"Dumbledore\"])\n",
    "\n",
    "# Dumbledore deveria ser o intruso"
   ]
  },
  {
   "cell_type": "code",
   "execution_count": 18,
   "id": "177c1f540c6a06f5",
   "metadata": {
    "ExecuteTime": {
     "end_time": "2024-05-02T09:35:30.276693100Z",
     "start_time": "2024-05-02T09:35:30.230713300Z"
    },
    "collapsed": false
   },
   "outputs": [
    {
     "data": {
      "text/plain": [
       "'granger'"
      ]
     },
     "execution_count": 18,
     "metadata": {},
     "output_type": "execute_result"
    }
   ],
   "source": [
    "model.wv.doesnt_match([\"granger\", \"hermione\", \"rony\"])\n",
    "#granger deveria ser o intruso"
   ]
  },
  {
   "cell_type": "code",
   "execution_count": 21,
   "id": "7a0d2d3373ee6bd1",
   "metadata": {
    "ExecuteTime": {
     "end_time": "2024-05-02T09:35:39.960674700Z",
     "start_time": "2024-05-02T09:35:39.903691100Z"
    },
    "collapsed": false
   },
   "outputs": [
    {
     "data": {
      "text/plain": [
       "'hermione'"
      ]
     },
     "execution_count": 21,
     "metadata": {},
     "output_type": "execute_result"
    }
   ],
   "source": [
    "model.wv.doesnt_match([\"grifinória\", \"hermione\", \"sonserina\"])\n",
    "#hermione deveria ser o intruso"
   ]
  },
  {
   "cell_type": "markdown",
   "id": "8484571423011217",
   "metadata": {
    "collapsed": false
   },
   "source": [
    "### Analogias"
   ]
  },
  {
   "cell_type": "code",
   "execution_count": 22,
   "id": "cff65362a6590fb1",
   "metadata": {
    "ExecuteTime": {
     "end_time": "2024-05-02T09:35:54.447160500Z",
     "start_time": "2024-05-02T09:35:54.409172900Z"
    },
    "collapsed": false
   },
   "outputs": [
    {
     "name": "stdout",
     "output_type": "stream",
     "text": [
      "mione\n"
     ]
    }
   ],
   "source": [
    "print(analogy('harry', 'hermione', 'rony'))"
   ]
  },
  {
   "cell_type": "code",
   "execution_count": 24,
   "id": "2d5fe80f209cc09f",
   "metadata": {
    "ExecuteTime": {
     "end_time": "2024-05-02T09:36:01.918329900Z",
     "start_time": "2024-05-02T09:36:01.810341100Z"
    },
    "collapsed": false
   },
   "outputs": [
    {
     "name": "stdout",
     "output_type": "stream",
     "text": [
      "magia\n"
     ]
    }
   ],
   "source": [
    "print(analogy('draco', 'sonserina', 'hermione'))\n",
    "\n",
    "# deve dar gryffindor"
   ]
  },
  {
   "cell_type": "code",
   "execution_count": 25,
   "id": "df05fa9407157565",
   "metadata": {
    "ExecuteTime": {
     "end_time": "2024-05-02T09:36:07.543319100Z",
     "start_time": "2024-05-02T09:36:07.511316200Z"
    },
    "collapsed": false
   },
   "outputs": [
    {
     "name": "stdout",
     "output_type": "stream",
     "text": [
      "parasse\n"
     ]
    }
   ],
   "source": [
    "print(analogy('harry', 'gryffindor', 'snape')) \n",
    "# deve dar Slytherin"
   ]
  },
  {
   "cell_type": "code",
   "execution_count": 26,
   "id": "eed7e0b7a83bf77a",
   "metadata": {
    "ExecuteTime": {
     "end_time": "2024-05-02T09:36:17.636081500Z",
     "start_time": "2024-05-02T09:36:17.605091600Z"
    },
    "collapsed": false
   },
   "outputs": [
    {
     "name": "stdout",
     "output_type": "stream",
     "text": [
      "hermione\n"
     ]
    }
   ],
   "source": [
    "print(analogy('draco', 'mione', 'sonserina')) \n",
    "# Draco esta para Mione , assim como Sonserina ( casa de Draco) está para Gryffindor (casa de Mione)\n",
    "# Gryffindor"
   ]
  },
  {
   "cell_type": "code",
   "execution_count": 27,
   "id": "5460df5086fc747",
   "metadata": {
    "ExecuteTime": {
     "end_time": "2024-05-02T09:36:26.517467300Z",
     "start_time": "2024-05-02T09:36:26.453468800Z"
    },
    "collapsed": false
   },
   "outputs": [
    {
     "name": "stdout",
     "output_type": "stream",
     "text": [
      "diário\n"
     ]
    }
   ],
   "source": [
    "print(analogy('draco', 'malfoy', 'hermione')) \n",
    "#granger"
   ]
  }
 ],
 "metadata": {
  "kernelspec": {
   "display_name": "Python 3",
   "language": "python",
   "name": "python3"
  },
  "language_info": {
   "codemirror_mode": {
    "name": "ipython",
    "version": 2
   },
   "file_extension": ".py",
   "mimetype": "text/x-python",
   "name": "python",
   "nbconvert_exporter": "python",
   "pygments_lexer": "ipython2",
   "version": "2.7.6"
  }
 },
 "nbformat": 4,
 "nbformat_minor": 5
}
